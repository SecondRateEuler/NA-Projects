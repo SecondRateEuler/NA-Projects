{
 "cells": [
  {
   "cell_type": "code",
   "execution_count": null,
   "id": "8c555746-92fd-4e82-9297-5791e2d98859",
   "metadata": {},
   "outputs": [],
   "source": [
    "#Import the packages that will be used for this notebook\n",
    "import pandas as pd\n",
    "import numpy as np\n",
    "import matplotlib as mpl\n",
    "import matplotlib.pyplot as plt"
   ]
  },
  {
   "cell_type": "code",
   "execution_count": null,
   "id": "34f55378-8956-4567-9ce6-c4a61ee8f760",
   "metadata": {},
   "outputs": [],
   "source": [
    "#Import all of the data from the .csv\n",
    "#Data obtained from https://www.kaggle.com/datasets/joshuabetetta/complete-pokedex-v100\n",
    "rawData = pd.read_csv(\"Complete Pokedex.csv\")"
   ]
  },
  {
   "cell_type": "code",
   "execution_count": null,
   "id": "475eac9f-b45a-4411-9106-cb5d38eb444a",
   "metadata": {},
   "outputs": [],
   "source": [
    "#Let's have a look at the first 10 rows of our data.\n",
    "pd.DataFrame(rawData[:10])"
   ]
  },
  {
   "cell_type": "code",
   "execution_count": null,
   "id": "0345a38e-2dfe-4c59-9960-5fc95b9bbf52",
   "metadata": {},
   "outputs": [],
   "source": [
    "#And now the last 10 rows.\n",
    "pd.DataFrame(rawData[-10:])"
   ]
  },
  {
   "cell_type": "code",
   "execution_count": null,
   "id": "2a452efd-1bc5-49f5-a004-27fb25239e42",
   "metadata": {},
   "outputs": [],
   "source": [
    "#Here, we pull all of the Pokemon where either its primary *or* secondary type is fairy.\n",
    "#As can bee seen in the data below, Clefable is a pure fairy type, whereas Jigglypuff is a normal-fairy type.\n",
    "rawData.loc[((rawData['type_1'] == 'Fairy') | (rawData['type_2'] == 'Fairy'))]"
   ]
  },
  {
   "cell_type": "code",
   "execution_count": null,
   "id": "e99b167b-4ae7-460d-99b9-72fc2b81cb4c",
   "metadata": {},
   "outputs": [],
   "source": [
    "#Here, we sort by the primary type, then the second type, then the names of the pokemon of that type set.\n",
    "rawData.sort_values(by=['type_1', 'type_2', 'pokemon_name'])"
   ]
  },
  {
   "cell_type": "code",
   "execution_count": null,
   "id": "2e63c7b6-0f79-4418-b7ae-fbe3fec6eb64",
   "metadata": {},
   "outputs": [],
   "source": [
    "types = rawData['type_1'].unique()\n",
    "print(types)"
   ]
  },
  {
   "cell_type": "code",
   "execution_count": null,
   "id": "bc97a467-8f67-4b01-91ff-d2b77664690b",
   "metadata": {},
   "outputs": [],
   "source": [
    "#Here, we count all of the primary-secondary type combinations.\n",
    "#It is important to note that this differentiates Normal-Fairy from Fairy-Normal.  For the sake of demonstration, we will be ignoring this detail.\n",
    "\n",
    "#First, we ready a dictionary that will house all of the information for a given primary typing.\n",
    "typeDict = dict()\n",
    "\n",
    "#Then, we go through each of the types listed above.\n",
    "for t in types:\n",
    "    \n",
    "    #For that type, we pull out all of the Pokemon that belong to that primary type and group them by secondary type.\n",
    "    typeInfo = rawData[rawData['type_1'] == t].groupby('type_2', dropna = False)['pokedex_number'].count()\n",
    "    \n",
    "    #A temporary dictionary is needed.\n",
    "    tempDict = dict()\n",
    "    \n",
    "    #We then cycle through all of the types again.  If the secondary type is present in what we just pulled, then we add that to the temp dictionary.\n",
    "    #If it isn't present in the information we pulled, then the primary-secondary typing combo doesn't exist, and it gets a 0.\n",
    "    for subT in types:\n",
    "        if subT in typeInfo.keys():\n",
    "            tempDict[subT] = typeInfo[subT]\n",
    "        else:\n",
    "            tempDict[subT] = 0\n",
    "    \n",
    "    #Since Pokemon without a seconary type have a NaN value and are always listed last, we simply add that number to a special category.\n",
    "    tempDict['Pure'] = typeInfo[-1]\n",
    "    \n",
    "    #Now that the dictionary for the primary typing is complete, we add it to the over-arching dictionary and start over with the next primary type.\n",
    "    typeDict[t] = tempDict\n",
    "    \n",
    "#After all of that work is done, we go ahead and display the results.\n",
    "display(pd.DataFrame(typeDict))"
   ]
  },
  {
   "cell_type": "code",
   "execution_count": null,
   "id": "a73b7fb4-c1ca-44c5-854d-b87463ac1388",
   "metadata": {},
   "outputs": [],
   "source": [
    "#Finally, we go through each of the primary types again\n",
    "for t in types:\n",
    "    \n",
    "    #We grab just the type's info that we are looking for.\n",
    "    sub_df = pd.DataFrame(df[t])\n",
    "    \n",
    "    #We want a bar plot to display the information.\n",
    "    barPlot = sub_df.plot(kind='bar', legend=False)\n",
    "    \n",
    "    #And a little customation to make it look good.\n",
    "    plt.title(\"Primary Pokemon Type: \" + t)\n",
    "    plt.xlabel(\"Sub Type\")\n",
    "    plt.ylabel(\"Total Amount per Sub Type\")\n",
    "    plt.bar_label(barPlot.containers[0])\n",
    "    "
   ]
  },
  {
   "cell_type": "code",
   "execution_count": null,
   "id": "c96f0ee1-3dde-4518-aedc-54dc68f62c8f",
   "metadata": {},
   "outputs": [],
   "source": []
  }
 ],
 "metadata": {
  "kernelspec": {
   "display_name": "Python 3 (ipykernel)",
   "language": "python",
   "name": "python3"
  },
  "language_info": {
   "codemirror_mode": {
    "name": "ipython",
    "version": 3
   },
   "file_extension": ".py",
   "mimetype": "text/x-python",
   "name": "python",
   "nbconvert_exporter": "python",
   "pygments_lexer": "ipython3",
   "version": "3.9.7"
  }
 },
 "nbformat": 4,
 "nbformat_minor": 5
}
